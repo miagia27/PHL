{
 "cells": [
  {
   "cell_type": "code",
   "execution_count": null,
   "id": "f29daae2",
   "metadata": {},
   "outputs": [],
   "source": [
    "# lesson overview\n",
    "\n",
    "# This lesson will show you how to contract information from ancient texts, organize a csv file, and then put into arcGIS to map"
   ]
  },
  {
   "cell_type": "code",
   "execution_count": null,
   "id": "8cf2c1e8",
   "metadata": {},
   "outputs": [],
   "source": [
    "# lesson outcomes\n",
    "\n",
    "# You will be able to use python to create a csv of information and then upload it to arcGIS to see the map of latitude\n",
    "# and longitude "
   ]
  },
  {
   "cell_type": "code",
   "execution_count": null,
   "id": "dec81e08",
   "metadata": {},
   "outputs": [],
   "source": [
    "pip install spacy pandas geopy geonamescache\n",
    "python -m spacy download en_core_web_sm"
   ]
  },
  {
   "cell_type": "code",
   "execution_count": null,
   "id": "25ca662d",
   "metadata": {},
   "outputs": [],
   "source": [
    "import spacy\n",
    "nlp = spacy.load(\"en_core_web_sm\")\n",
    "\n",
    "with open(\"ancient_text.txt\", \"r\", encoding=\"utf-8\") as file:\n",
    "    text = file.read()\n",
    "\n",
    "doc = nlp(text)\n",
    "\n",
    "places = [ent.text for ent in doc.ents if ent.label_ == \"GPE\"]\n",
    "unique_places = list(set(places))"
   ]
  },
  {
   "cell_type": "code",
   "execution_count": null,
   "id": "7c21fdca",
   "metadata": {},
   "outputs": [],
   "source": [
    "import pandas as pd\n",
    "\n",
    "df = pd.DataFrame(unique_places, columns=[\"Place\"])\n",
    "df.to_csv(\"places_extracted.csv\", index=False)"
   ]
  },
  {
   "cell_type": "code",
   "execution_count": null,
   "id": "78c06ea2",
   "metadata": {},
   "outputs": [],
   "source": [
    "from geopy.geocoders import Nominatim\n",
    "from time import sleep\n",
    "\n",
    "geolocator = Nominatim(user_agent=\"ancient-geocoder\")\n",
    "\n",
    "def get_coords(place):\n",
    "    try:\n",
    "        location = geolocator.geocode(place)\n",
    "        if location:\n",
    "            return pd.Series([location.latitude, location.longitude])\n",
    "    except:\n",
    "        return pd.Series([None, None])\n",
    "    sleep(1)\n",
    "\n",
    "df[['Latitude', 'Longitude']] = df['Place'].apply(get_coords)\n",
    "df.to_csv(\"places_with_coords.csv\", index=False)\n",
    "\n",
    "# or you can use a site such as pleadies to find the latitude and longitude!"
   ]
  },
  {
   "cell_type": "code",
   "execution_count": null,
   "id": "ff4ad816",
   "metadata": {},
   "outputs": [],
   "source": [
    "# now upload that created csv file into arcGIS new map to visualize the locations"
   ]
  },
  {
   "cell_type": "code",
   "execution_count": null,
   "id": "89d5f974",
   "metadata": {},
   "outputs": [],
   "source": [
    "# Now you have learned how to extract geographic entities from an ancient text, \n",
    "# structure them in a CSV, and prepare them for spatial analysis. \n",
    "# You can extend this workflow with historical gazetteers or more advanced NLP tools \n",
    "# like spaCy's custom NER or machine-learning-based geotagging."
   ]
  }
 ],
 "metadata": {
  "kernelspec": {
   "display_name": "Python 3",
   "language": "python",
   "name": "python3"
  },
  "language_info": {
   "name": "python",
   "version": "3.12.1"
  }
 },
 "nbformat": 4,
 "nbformat_minor": 5
}
